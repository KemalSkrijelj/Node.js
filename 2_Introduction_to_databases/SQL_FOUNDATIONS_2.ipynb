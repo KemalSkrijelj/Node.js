{
    "metadata": {
        "kernelspec": {
            "name": "SQL",
            "display_name": "SQL",
            "language": "sql"
        },
        "language_info": {
            "name": "sql",
            "version": ""
        }
    },
    "nbformat_minor": 2,
    "nbformat": 4,
    "cells": [
        {
            "cell_type": "markdown",
            "source": [
                "# SQL Practice Notebook\n",
                "This notebook is designed to help you practice SQL by following the tasks provided below. Each task includes a description and a code cell where you can write and execute your SQL queries."
            ],
            "metadata": {
                "azdata_cell_guid": "6969aeb5-d47e-4d80-91e3-fb75a0b7fd07"
            }
        },
        {
            "cell_type": "markdown",
            "source": [
                "## Task 1: Create the Database\n",
                "Create a new database to store the tables required for the exercise. Write your SQL query in the cell below."
            ],
            "metadata": {
                "azdata_cell_guid": "ab16708d-efe2-4b79-81ad-1cc31a100434"
            }
        },
        {
            "cell_type": "code",
            "source": [
                "/* Write your SQL query here to create the database */"
            ],
            "metadata": {
                "azdata_cell_guid": "9e6537b0-785b-4867-a635-0cac2058d7a4",
                "language": "sql"
            },
            "outputs": [],
            "execution_count": null
        },
        {
            "cell_type": "markdown",
            "source": [
                "## Task 2: Create the Tables\n",
                "Using the provided design, create the following tables:\n",
                "1. `User`\n",
                "2. `Profile`\n",
                "3. `Post`\n",
                "4. `Tag`\n",
                "5. `PostTag`\n",
                "\n",
                "Write your SQL queries in the cell below."
            ],
            "metadata": {
                "azdata_cell_guid": "a0ad3817-5f46-4e40-ad69-1c48561e8808"
            }
        },
        {
            "cell_type": "code",
            "source": [
                "/* Write your SQL queries here to create the tables */"
            ],
            "metadata": {
                "azdata_cell_guid": "0a68d4ff-0116-4115-bb10-5869b1c656c0",
                "language": "sql"
            },
            "outputs": [],
            "execution_count": null
        },
        {
            "cell_type": "markdown",
            "source": [
                "## Task 3: Insert Data into Tables\n",
                "Insert the following data into the tables you just created:\n",
                "\n",
                "- Add at least **3 users**.\n",
                "- Create a **profile** for each user.\n",
                "- Insert at least **2 posts** and associate them with users.\n",
                "- Add at least **3 tags** and link them to posts using the `PostTag` table.\n",
                "\n",
                "Write your SQL queries in the cell below."
            ],
            "metadata": {
                "azdata_cell_guid": "ab6071bd-c04f-4f36-9a18-11898fa560d0"
            }
        },
        {
            "cell_type": "code",
            "source": [
                "/* Write your SQL queries here to insert data into the tables */"
            ],
            "metadata": {
                "azdata_cell_guid": "49e46e98-9d31-442e-8e25-cea9094322b6",
                "language": "sql"
            },
            "outputs": [],
            "execution_count": null
        },
        {
            "cell_type": "markdown",
            "source": [
                "## Task 4: Query the Data\n",
                "\n",
                "Use `SELECT` queries to:\n",
                "\n",
                "1. Retrieve all users and their profiles.\n",
                "2. Fetch posts along with their associated tags.\n",
                "\n",
                "Write your SQL queries in the cell below."
            ],
            "metadata": {
                "azdata_cell_guid": "434ed9ca-194f-4fd3-bb7a-42e9d507cf96"
            },
            "attachments": {}
        },
        {
            "cell_type": "code",
            "source": [
                "/* Write your SQL queries here to insert data into the tables */"
            ],
            "metadata": {
                "language": "sql",
                "azdata_cell_guid": "7b9de58a-a30f-4ad1-a0ad-3321d3c35e9a"
            },
            "outputs": [],
            "execution_count": null
        }
    ]
}