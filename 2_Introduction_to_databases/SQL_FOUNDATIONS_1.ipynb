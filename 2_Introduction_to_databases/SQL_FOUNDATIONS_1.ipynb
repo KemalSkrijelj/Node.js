{
    "metadata": {
        "kernelspec": {
            "name": "SQL",
            "display_name": "SQL",
            "language": "sql"
        },
        "language_info": {
            "name": "sql",
            "version": ""
        }
    },
    "nbformat_minor": 2,
    "nbformat": 4,
    "cells": [
        {
            "cell_type": "markdown",
            "source": [
                "### SQL Exercises for Northwind Database"
            ],
            "metadata": {
                "azdata_cell_guid": "06da6da8-f3b0-4ba6-87d2-215676beee76"
            }
        },
        {
            "cell_type": "markdown",
            "source": [
                "Each exercise is explained in a markdown cell. Use the provided SQL code cells to write and execute your solutions."
            ],
            "metadata": {
                "azdata_cell_guid": "43dc6c93-1eed-4707-80e0-9c080d9896b7"
            }
        },
        {
            "cell_type": "markdown",
            "source": [
                "### Exercise 1: SQL SELECT"
            ],
            "metadata": {
                "azdata_cell_guid": "a296b0fd-f6d2-4db1-b6b1-60a1bfe9d8db"
            }
        },
        {
            "cell_type": "markdown",
            "source": [
                "**Part A:** Display all columns from the `Products` table."
            ],
            "metadata": {
                "azdata_cell_guid": "07ecc5bc-4ef1-49cd-8b64-c68ff45c8cfd"
            }
        },
        {
            "cell_type": "code",
            "source": [
                "/*\n",
                "WRITE AND EXECUTE YOUR IN THIS CELL UNDER THIS COMMENT\n",
                "*/\n",
                "\n",
                "SELECT * FROM products;"
            ],
            "metadata": {
                "azdata_cell_guid": "bdbfceee-5f14-4002-90ba-60efa3c6f666",
                "language": "sql"
            },
            "outputs": [
                {
                    "output_type": "display_data",
                    "data": {
                        "text/html": "(77 row(s) affected)"
                    },
                    "metadata": {}
                },
                {
                    "output_type": "display_data",
                    "data": {
                        "text/html": "Total execution time: 00:00:00.008"
                    },
                    "metadata": {}
                },
                {
                    "output_type": "execute_result",
                    "metadata": {},
                    "execution_count": 23,
                    "data": {
                        "application/vnd.dataresource+json": {
                            "schema": {
                                "fields": [
                                    {
                                        "name": "productid"
                                    },
                                    {
                                        "name": "productname"
                                    },
                                    {
                                        "name": "supplierid"
                                    },
                                    {
                                        "name": "categoryid"
                                    },
                                    {
                                        "name": "unit"
                                    },
                                    {
                                        "name": "price"
                                    }
                                ]
                            },
                            "data": [
                                {
                                    "productid": "3",
                                    "productname": "Aniseed Syrup",
                                    "supplierid": "1",
                                    "categoryid": "2",
                                    "unit": "12 - 550 ml bottles",
                                    "price": "10"
                                },
                                {
                                    "productid": "4",
                                    "productname": "Chef Anton's Cajun Seasoning",
                                    "supplierid": "2",
                                    "categoryid": "2",
                                    "unit": "48 - 6 oz jars",
                                    "price": "22"
                                },
                                {
                                    "productid": "5",
                                    "productname": "Chef Anton's Gumbo Mix",
                                    "supplierid": "2",
                                    "categoryid": "2",
                                    "unit": "36 boxes",
                                    "price": "21.35"
                                },
                                {
                                    "productid": "6",
                                    "productname": "Grandma's Boysenberry Spread",
                                    "supplierid": "3",
                                    "categoryid": "2",
                                    "unit": "12 - 8 oz jars",
                                    "price": "25"
                                },
                                {
                                    "productid": "7",
                                    "productname": "Uncle Bob's Organic Dried Pears",
                                    "supplierid": "3",
                                    "categoryid": "7",
                                    "unit": "12 - 1 lb pkgs.",
                                    "price": "30"
                                },
                                {
                                    "productid": "8",
                                    "productname": "Northwoods Cranberry Sauce",
                                    "supplierid": "3",
                                    "categoryid": "2",
                                    "unit": "12 - 12 oz jars",
                                    "price": "40"
                                },
                                {
                                    "productid": "9",
                                    "productname": "Mishi Kobe Niku",
                                    "supplierid": "4",
                                    "categoryid": "6",
                                    "unit": "18 - 500 g pkgs.",
                                    "price": "97"
                                },
                                {
                                    "productid": "10",
                                    "productname": "Ikura",
                                    "supplierid": "4",
                                    "categoryid": "8",
                                    "unit": "12 - 200 ml jars",
                                    "price": "31"
                                },
                                {
                                    "productid": "11",
                                    "productname": "Queso Cabrales",
                                    "supplierid": "5",
                                    "categoryid": "4",
                                    "unit": "1 kg pkg.",
                                    "price": "21"
                                },
                                {
                                    "productid": "12",
                                    "productname": "Queso Manchego La Pastora",
                                    "supplierid": "5",
                                    "categoryid": "4",
                                    "unit": "10 - 500 g pkgs.",
                                    "price": "38"
                                },
                                {
                                    "productid": "13",
                                    "productname": "Konbu",
                                    "supplierid": "6",
                                    "categoryid": "8",
                                    "unit": "2 kg box",
                                    "price": "6"
                                },
                                {
                                    "productid": "14",
                                    "productname": "Tofu",
                                    "supplierid": "6",
                                    "categoryid": "7",
                                    "unit": "40 - 100 g pkgs.",
                                    "price": "23.25"
                                },
                                {
                                    "productid": "15",
                                    "productname": "Genen Shouyu",
                                    "supplierid": "6",
                                    "categoryid": "2",
                                    "unit": "24 - 250 ml bottles",
                                    "price": "15.5"
                                },
                                {
                                    "productid": "16",
                                    "productname": "Pavlova",
                                    "supplierid": "7",
                                    "categoryid": "3",
                                    "unit": "32 - 500 g boxes",
                                    "price": "17.45"
                                },
                                {
                                    "productid": "17",
                                    "productname": "Alice Mutton",
                                    "supplierid": "7",
                                    "categoryid": "6",
                                    "unit": "20 - 1 kg tins",
                                    "price": "39"
                                },
                                {
                                    "productid": "18",
                                    "productname": "Carnarvon Tigers",
                                    "supplierid": "7",
                                    "categoryid": "8",
                                    "unit": "16 kg pkg.",
                                    "price": "62.5"
                                },
                                {
                                    "productid": "19",
                                    "productname": "Teatime Chocolate Biscuits",
                                    "supplierid": "8",
                                    "categoryid": "3",
                                    "unit": "10 boxes x 12 pieces",
                                    "price": "9.2"
                                },
                                {
                                    "productid": "20",
                                    "productname": "Sir Rodney's Marmalade",
                                    "supplierid": "8",
                                    "categoryid": "3",
                                    "unit": "30 gift boxes",
                                    "price": "81"
                                },
                                {
                                    "productid": "21",
                                    "productname": "Sir Rodney's Scones",
                                    "supplierid": "8",
                                    "categoryid": "3",
                                    "unit": "24 pkgs. x 4 pieces",
                                    "price": "10"
                                },
                                {
                                    "productid": "22",
                                    "productname": "Gustaf's Knäckebröd",
                                    "supplierid": "9",
                                    "categoryid": "5",
                                    "unit": "24 - 500 g pkgs.",
                                    "price": "21"
                                },
                                {
                                    "productid": "23",
                                    "productname": "Tunnbröd",
                                    "supplierid": "9",
                                    "categoryid": "5",
                                    "unit": "12 - 250 g pkgs.",
                                    "price": "9"
                                },
                                {
                                    "productid": "25",
                                    "productname": "NuNuCa Nuß-Nougat-Creme",
                                    "supplierid": "11",
                                    "categoryid": "3",
                                    "unit": "20 - 450 g glasses",
                                    "price": "14"
                                },
                                {
                                    "productid": "26",
                                    "productname": "Gumbär Gummibärchen",
                                    "supplierid": "11",
                                    "categoryid": "3",
                                    "unit": "100 - 250 g bags",
                                    "price": "31.23"
                                },
                                {
                                    "productid": "27",
                                    "productname": "Schoggi Schokolade",
                                    "supplierid": "11",
                                    "categoryid": "3",
                                    "unit": "100 - 100 g pieces",
                                    "price": "43.9"
                                },
                                {
                                    "productid": "28",
                                    "productname": "Rössle Sauerkraut",
                                    "supplierid": "12",
                                    "categoryid": "7",
                                    "unit": "25 - 825 g cans",
                                    "price": "45.6"
                                },
                                {
                                    "productid": "29",
                                    "productname": "Thüringer Rostbratwurst",
                                    "supplierid": "12",
                                    "categoryid": "6",
                                    "unit": "50 bags x 30 sausgs.",
                                    "price": "123.79"
                                },
                                {
                                    "productid": "30",
                                    "productname": "Nord-Ost Matjeshering",
                                    "supplierid": "13",
                                    "categoryid": "8",
                                    "unit": "10 - 200 g glasses",
                                    "price": "25.89"
                                },
                                {
                                    "productid": "31",
                                    "productname": "Gorgonzola Telino",
                                    "supplierid": "14",
                                    "categoryid": "4",
                                    "unit": "12 - 100 g pkgs",
                                    "price": "12.5"
                                },
                                {
                                    "productid": "32",
                                    "productname": "Mascarpone Fabioli",
                                    "supplierid": "14",
                                    "categoryid": "4",
                                    "unit": "24 - 200 g pkgs.",
                                    "price": "32"
                                },
                                {
                                    "productid": "33",
                                    "productname": "Geitost",
                                    "supplierid": "15",
                                    "categoryid": "4",
                                    "unit": "500 g",
                                    "price": "2.5"
                                },
                                {
                                    "productid": "36",
                                    "productname": "Inlagd Sill",
                                    "supplierid": "17",
                                    "categoryid": "8",
                                    "unit": "24 - 250 g jars",
                                    "price": "19"
                                },
                                {
                                    "productid": "37",
                                    "productname": "Gravad lax",
                                    "supplierid": "17",
                                    "categoryid": "8",
                                    "unit": "12 - 500 g pkgs.",
                                    "price": "26"
                                },
                                {
                                    "productid": "40",
                                    "productname": "Boston Crab Meat",
                                    "supplierid": "19",
                                    "categoryid": "8",
                                    "unit": "24 - 4 oz tins",
                                    "price": "18.4"
                                },
                                {
                                    "productid": "41",
                                    "productname": "Jack's New England Clam Chowder",
                                    "supplierid": "19",
                                    "categoryid": "8",
                                    "unit": "12 - 12 oz cans",
                                    "price": "9.65"
                                },
                                {
                                    "productid": "42",
                                    "productname": "Singaporean Hokkien Fried Mee",
                                    "supplierid": "20",
                                    "categoryid": "5",
                                    "unit": "32 - 1 kg pkgs.",
                                    "price": "14"
                                },
                                {
                                    "productid": "44",
                                    "productname": "Gula Malacca",
                                    "supplierid": "20",
                                    "categoryid": "2",
                                    "unit": "20 - 2 kg bags",
                                    "price": "19.45"
                                },
                                {
                                    "productid": "45",
                                    "productname": "Røgede sild",
                                    "supplierid": "21",
                                    "categoryid": "8",
                                    "unit": "1k pkg.",
                                    "price": "9.5"
                                },
                                {
                                    "productid": "46",
                                    "productname": "Spegesild",
                                    "supplierid": "21",
                                    "categoryid": "8",
                                    "unit": "4 - 450 g glasses",
                                    "price": "12"
                                },
                                {
                                    "productid": "47",
                                    "productname": "Zaanse koeken",
                                    "supplierid": "22",
                                    "categoryid": "3",
                                    "unit": "10 - 4 oz boxes",
                                    "price": "9.5"
                                },
                                {
                                    "productid": "48",
                                    "productname": "Chocolade",
                                    "supplierid": "22",
                                    "categoryid": "3",
                                    "unit": "10 pkgs.",
                                    "price": "12.75"
                                },
                                {
                                    "productid": "49",
                                    "productname": "Maxilaku",
                                    "supplierid": "23",
                                    "categoryid": "3",
                                    "unit": "24 - 50 g pkgs.",
                                    "price": "20"
                                },
                                {
                                    "productid": "50",
                                    "productname": "Valkoinen suklaa",
                                    "supplierid": "23",
                                    "categoryid": "3",
                                    "unit": "12 - 100 g bars",
                                    "price": "16.25"
                                },
                                {
                                    "productid": "51",
                                    "productname": "Manjimup Dried Apples",
                                    "supplierid": "24",
                                    "categoryid": "7",
                                    "unit": "50 - 300 g pkgs.",
                                    "price": "53"
                                },
                                {
                                    "productid": "52",
                                    "productname": "Filo Mix",
                                    "supplierid": "24",
                                    "categoryid": "5",
                                    "unit": "16 - 2 kg boxes",
                                    "price": "7"
                                },
                                {
                                    "productid": "53",
                                    "productname": "Perth Pasties",
                                    "supplierid": "24",
                                    "categoryid": "6",
                                    "unit": "48 pieces",
                                    "price": "32.8"
                                },
                                {
                                    "productid": "54",
                                    "productname": "Tourtière",
                                    "supplierid": "25",
                                    "categoryid": "6",
                                    "unit": "16 pies",
                                    "price": "7.45"
                                },
                                {
                                    "productid": "55",
                                    "productname": "Pâté chinois",
                                    "supplierid": "25",
                                    "categoryid": "6",
                                    "unit": "24 boxes x 2 pies",
                                    "price": "24"
                                },
                                {
                                    "productid": "56",
                                    "productname": "Gnocchi di nonna Alice",
                                    "supplierid": "26",
                                    "categoryid": "5",
                                    "unit": "24 - 250 g pkgs.",
                                    "price": "38"
                                },
                                {
                                    "productid": "57",
                                    "productname": "Ravioli Angelo",
                                    "supplierid": "26",
                                    "categoryid": "5",
                                    "unit": "24 - 250 g pkgs.",
                                    "price": "19.5"
                                },
                                {
                                    "productid": "58",
                                    "productname": "Escargots de Bourgogne",
                                    "supplierid": "27",
                                    "categoryid": "8",
                                    "unit": "24 pieces",
                                    "price": "13.25"
                                },
                                {
                                    "productid": "59",
                                    "productname": "Raclette Courdavault",
                                    "supplierid": "28",
                                    "categoryid": "4",
                                    "unit": "5 kg pkg.",
                                    "price": "55"
                                },
                                {
                                    "productid": "60",
                                    "productname": "Camembert Pierrot",
                                    "supplierid": "28",
                                    "categoryid": "4",
                                    "unit": "15 - 300 g rounds",
                                    "price": "34"
                                },
                                {
                                    "productid": "61",
                                    "productname": "Sirop d'érable",
                                    "supplierid": "29",
                                    "categoryid": "2",
                                    "unit": "24 - 500 ml bottles",
                                    "price": "28.5"
                                },
                                {
                                    "productid": "62",
                                    "productname": "Tarte au sucre",
                                    "supplierid": "29",
                                    "categoryid": "3",
                                    "unit": "48 pies",
                                    "price": "49.3"
                                },
                                {
                                    "productid": "63",
                                    "productname": "Vegie-spread",
                                    "supplierid": "7",
                                    "categoryid": "2",
                                    "unit": "15 - 625 g jars",
                                    "price": "43.9"
                                },
                                {
                                    "productid": "64",
                                    "productname": "Wimmers gute Semmelknödel",
                                    "supplierid": "12",
                                    "categoryid": "5",
                                    "unit": "20 bags x 4 pieces",
                                    "price": "33.25"
                                },
                                {
                                    "productid": "65",
                                    "productname": "Louisiana Fiery Hot Pepper Sauce",
                                    "supplierid": "2",
                                    "categoryid": "2",
                                    "unit": "32 - 8 oz bottles",
                                    "price": "21.05"
                                },
                                {
                                    "productid": "66",
                                    "productname": "Louisiana Hot Spiced Okra",
                                    "supplierid": "2",
                                    "categoryid": "2",
                                    "unit": "24 - 8 oz jars",
                                    "price": "17"
                                },
                                {
                                    "productid": "68",
                                    "productname": "Scottish Longbreads",
                                    "supplierid": "8",
                                    "categoryid": "3",
                                    "unit": "10 boxes x 8 pieces",
                                    "price": "12.5"
                                },
                                {
                                    "productid": "69",
                                    "productname": "Gudbrandsdalsost",
                                    "supplierid": "15",
                                    "categoryid": "4",
                                    "unit": "10 kg pkg.",
                                    "price": "36"
                                },
                                {
                                    "productid": "71",
                                    "productname": "Fløtemysost",
                                    "supplierid": "15",
                                    "categoryid": "4",
                                    "unit": "10 - 500 g pkgs.",
                                    "price": "21.5"
                                },
                                {
                                    "productid": "72",
                                    "productname": "Mozzarella di Giovanni",
                                    "supplierid": "14",
                                    "categoryid": "4",
                                    "unit": "24 - 200 g pkgs.",
                                    "price": "34.8"
                                },
                                {
                                    "productid": "73",
                                    "productname": "Röd Kaviar",
                                    "supplierid": "17",
                                    "categoryid": "8",
                                    "unit": "24 - 150 g jars",
                                    "price": "15"
                                },
                                {
                                    "productid": "74",
                                    "productname": "Longlife Tofu",
                                    "supplierid": "4",
                                    "categoryid": "7",
                                    "unit": "5 kg pkg.",
                                    "price": "10"
                                },
                                {
                                    "productid": "77",
                                    "productname": "Original Frankfurter grüne Soße",
                                    "supplierid": "12",
                                    "categoryid": "2",
                                    "unit": "12 boxes",
                                    "price": "13"
                                },
                                {
                                    "productid": "2",
                                    "productname": "Chang",
                                    "supplierid": "1",
                                    "categoryid": "1",
                                    "unit": "24 - 12 oz bottles",
                                    "price": "19.95"
                                },
                                {
                                    "productid": "24",
                                    "productname": "Guaraná Fantástica",
                                    "supplierid": "10",
                                    "categoryid": "1",
                                    "unit": "12 - 355 ml cans",
                                    "price": "4.725"
                                },
                                {
                                    "productid": "34",
                                    "productname": "Sasquatch Ale",
                                    "supplierid": "16",
                                    "categoryid": "1",
                                    "unit": "24 - 12 oz bottles",
                                    "price": "14.70"
                                },
                                {
                                    "productid": "35",
                                    "productname": "Steeleye Stout",
                                    "supplierid": "16",
                                    "categoryid": "1",
                                    "unit": "24 - 12 oz bottles",
                                    "price": "18.90"
                                },
                                {
                                    "productid": "38",
                                    "productname": "Côte de Blaye",
                                    "supplierid": "18",
                                    "categoryid": "1",
                                    "unit": "12 - 75 cl bottles",
                                    "price": "276.675"
                                },
                                {
                                    "productid": "39",
                                    "productname": "Chartreuse verte",
                                    "supplierid": "18",
                                    "categoryid": "1",
                                    "unit": "750 cc per bottle",
                                    "price": "18.90"
                                },
                                {
                                    "productid": "43",
                                    "productname": "Ipoh Coffee",
                                    "supplierid": "20",
                                    "categoryid": "1",
                                    "unit": "16 - 500 g tins",
                                    "price": "48.30"
                                },
                                {
                                    "productid": "67",
                                    "productname": "Laughing Lumberjack Lager",
                                    "supplierid": "16",
                                    "categoryid": "1",
                                    "unit": "24 - 12 oz bottles",
                                    "price": "14.70"
                                },
                                {
                                    "productid": "70",
                                    "productname": "Outback Lager",
                                    "supplierid": "7",
                                    "categoryid": "1",
                                    "unit": "24 - 355 ml bottles",
                                    "price": "15.75"
                                },
                                {
                                    "productid": "75",
                                    "productname": "Rhönbräu Klosterbier",
                                    "supplierid": "12",
                                    "categoryid": "1",
                                    "unit": "24 - 0.5 l bottles",
                                    "price": "8.1375"
                                },
                                {
                                    "productid": "76",
                                    "productname": "Lakkalikööri",
                                    "supplierid": "23",
                                    "categoryid": "1",
                                    "unit": "500 ml",
                                    "price": "18.90"
                                },
                                {
                                    "productid": "1",
                                    "productname": "Chais",
                                    "supplierid": "1",
                                    "categoryid": "1",
                                    "unit": "10 boxes x 20 bags",
                                    "price": "26.25"
                                }
                            ]
                        },
                        "text/html": [
                            "<table>",
                            "<tr><th>productid</th><th>productname</th><th>supplierid</th><th>categoryid</th><th>unit</th><th>price</th></tr>",
                            "<tr><td>3</td><td>Aniseed Syrup</td><td>1</td><td>2</td><td>12 - 550 ml bottles</td><td>10</td></tr>",
                            "<tr><td>4</td><td>Chef Anton&#39;s Cajun Seasoning</td><td>2</td><td>2</td><td>48 - 6 oz jars</td><td>22</td></tr>",
                            "<tr><td>5</td><td>Chef Anton&#39;s Gumbo Mix</td><td>2</td><td>2</td><td>36 boxes</td><td>21.35</td></tr>",
                            "<tr><td>6</td><td>Grandma&#39;s Boysenberry Spread</td><td>3</td><td>2</td><td>12 - 8 oz jars</td><td>25</td></tr>",
                            "<tr><td>7</td><td>Uncle Bob&#39;s Organic Dried Pears</td><td>3</td><td>7</td><td>12 - 1 lb pkgs.</td><td>30</td></tr>",
                            "<tr><td>8</td><td>Northwoods Cranberry Sauce</td><td>3</td><td>2</td><td>12 - 12 oz jars</td><td>40</td></tr>",
                            "<tr><td>9</td><td>Mishi Kobe Niku</td><td>4</td><td>6</td><td>18 - 500 g pkgs.</td><td>97</td></tr>",
                            "<tr><td>10</td><td>Ikura</td><td>4</td><td>8</td><td>12 - 200 ml jars</td><td>31</td></tr>",
                            "<tr><td>11</td><td>Queso Cabrales</td><td>5</td><td>4</td><td>1 kg pkg.</td><td>21</td></tr>",
                            "<tr><td>12</td><td>Queso Manchego La Pastora</td><td>5</td><td>4</td><td>10 - 500 g pkgs.</td><td>38</td></tr>",
                            "<tr><td>13</td><td>Konbu</td><td>6</td><td>8</td><td>2 kg box</td><td>6</td></tr>",
                            "<tr><td>14</td><td>Tofu</td><td>6</td><td>7</td><td>40 - 100 g pkgs.</td><td>23.25</td></tr>",
                            "<tr><td>15</td><td>Genen Shouyu</td><td>6</td><td>2</td><td>24 - 250 ml bottles</td><td>15.5</td></tr>",
                            "<tr><td>16</td><td>Pavlova</td><td>7</td><td>3</td><td>32 - 500 g boxes</td><td>17.45</td></tr>",
                            "<tr><td>17</td><td>Alice Mutton</td><td>7</td><td>6</td><td>20 - 1 kg tins</td><td>39</td></tr>",
                            "<tr><td>18</td><td>Carnarvon Tigers</td><td>7</td><td>8</td><td>16 kg pkg.</td><td>62.5</td></tr>",
                            "<tr><td>19</td><td>Teatime Chocolate Biscuits</td><td>8</td><td>3</td><td>10 boxes x 12 pieces</td><td>9.2</td></tr>",
                            "<tr><td>20</td><td>Sir Rodney&#39;s Marmalade</td><td>8</td><td>3</td><td>30 gift boxes</td><td>81</td></tr>",
                            "<tr><td>21</td><td>Sir Rodney&#39;s Scones</td><td>8</td><td>3</td><td>24 pkgs. x 4 pieces</td><td>10</td></tr>",
                            "<tr><td>22</td><td>Gustaf&#39;s Knäckebröd</td><td>9</td><td>5</td><td>24 - 500 g pkgs.</td><td>21</td></tr>",
                            "<tr><td>23</td><td>Tunnbröd</td><td>9</td><td>5</td><td>12 - 250 g pkgs.</td><td>9</td></tr>",
                            "<tr><td>25</td><td>NuNuCa Nuß-Nougat-Creme</td><td>11</td><td>3</td><td>20 - 450 g glasses</td><td>14</td></tr>",
                            "<tr><td>26</td><td>Gumbär Gummibärchen</td><td>11</td><td>3</td><td>100 - 250 g bags</td><td>31.23</td></tr>",
                            "<tr><td>27</td><td>Schoggi Schokolade</td><td>11</td><td>3</td><td>100 - 100 g pieces</td><td>43.9</td></tr>",
                            "<tr><td>28</td><td>Rössle Sauerkraut</td><td>12</td><td>7</td><td>25 - 825 g cans</td><td>45.6</td></tr>",
                            "<tr><td>29</td><td>Thüringer Rostbratwurst</td><td>12</td><td>6</td><td>50 bags x 30 sausgs.</td><td>123.79</td></tr>",
                            "<tr><td>30</td><td>Nord-Ost Matjeshering</td><td>13</td><td>8</td><td>10 - 200 g glasses</td><td>25.89</td></tr>",
                            "<tr><td>31</td><td>Gorgonzola Telino</td><td>14</td><td>4</td><td>12 - 100 g pkgs</td><td>12.5</td></tr>",
                            "<tr><td>32</td><td>Mascarpone Fabioli</td><td>14</td><td>4</td><td>24 - 200 g pkgs.</td><td>32</td></tr>",
                            "<tr><td>33</td><td>Geitost</td><td>15</td><td>4</td><td>500 g</td><td>2.5</td></tr>",
                            "<tr><td>36</td><td>Inlagd Sill</td><td>17</td><td>8</td><td>24 - 250 g jars</td><td>19</td></tr>",
                            "<tr><td>37</td><td>Gravad lax</td><td>17</td><td>8</td><td>12 - 500 g pkgs.</td><td>26</td></tr>",
                            "<tr><td>40</td><td>Boston Crab Meat</td><td>19</td><td>8</td><td>24 - 4 oz tins</td><td>18.4</td></tr>",
                            "<tr><td>41</td><td>Jack&#39;s New England Clam Chowder</td><td>19</td><td>8</td><td>12 - 12 oz cans</td><td>9.65</td></tr>",
                            "<tr><td>42</td><td>Singaporean Hokkien Fried Mee</td><td>20</td><td>5</td><td>32 - 1 kg pkgs.</td><td>14</td></tr>",
                            "<tr><td>44</td><td>Gula Malacca</td><td>20</td><td>2</td><td>20 - 2 kg bags</td><td>19.45</td></tr>",
                            "<tr><td>45</td><td>Røgede sild</td><td>21</td><td>8</td><td>1k pkg.</td><td>9.5</td></tr>",
                            "<tr><td>46</td><td>Spegesild</td><td>21</td><td>8</td><td>4 - 450 g glasses</td><td>12</td></tr>",
                            "<tr><td>47</td><td>Zaanse koeken</td><td>22</td><td>3</td><td>10 - 4 oz boxes</td><td>9.5</td></tr>",
                            "<tr><td>48</td><td>Chocolade</td><td>22</td><td>3</td><td>10 pkgs.</td><td>12.75</td></tr>",
                            "<tr><td>49</td><td>Maxilaku</td><td>23</td><td>3</td><td>24 - 50 g pkgs.</td><td>20</td></tr>",
                            "<tr><td>50</td><td>Valkoinen suklaa</td><td>23</td><td>3</td><td>12 - 100 g bars</td><td>16.25</td></tr>",
                            "<tr><td>51</td><td>Manjimup Dried Apples</td><td>24</td><td>7</td><td>50 - 300 g pkgs.</td><td>53</td></tr>",
                            "<tr><td>52</td><td>Filo Mix</td><td>24</td><td>5</td><td>16 - 2 kg boxes</td><td>7</td></tr>",
                            "<tr><td>53</td><td>Perth Pasties</td><td>24</td><td>6</td><td>48 pieces</td><td>32.8</td></tr>",
                            "<tr><td>54</td><td>Tourtière</td><td>25</td><td>6</td><td>16 pies</td><td>7.45</td></tr>",
                            "<tr><td>55</td><td>Pâté chinois</td><td>25</td><td>6</td><td>24 boxes x 2 pies</td><td>24</td></tr>",
                            "<tr><td>56</td><td>Gnocchi di nonna Alice</td><td>26</td><td>5</td><td>24 - 250 g pkgs.</td><td>38</td></tr>",
                            "<tr><td>57</td><td>Ravioli Angelo</td><td>26</td><td>5</td><td>24 - 250 g pkgs.</td><td>19.5</td></tr>",
                            "<tr><td>58</td><td>Escargots de Bourgogne</td><td>27</td><td>8</td><td>24 pieces</td><td>13.25</td></tr>",
                            "<tr><td>59</td><td>Raclette Courdavault</td><td>28</td><td>4</td><td>5 kg pkg.</td><td>55</td></tr>",
                            "<tr><td>60</td><td>Camembert Pierrot</td><td>28</td><td>4</td><td>15 - 300 g rounds</td><td>34</td></tr>",
                            "<tr><td>61</td><td>Sirop d&#39;érable</td><td>29</td><td>2</td><td>24 - 500 ml bottles</td><td>28.5</td></tr>",
                            "<tr><td>62</td><td>Tarte au sucre</td><td>29</td><td>3</td><td>48 pies</td><td>49.3</td></tr>",
                            "<tr><td>63</td><td>Vegie-spread</td><td>7</td><td>2</td><td>15 - 625 g jars</td><td>43.9</td></tr>",
                            "<tr><td>64</td><td>Wimmers gute Semmelknödel</td><td>12</td><td>5</td><td>20 bags x 4 pieces</td><td>33.25</td></tr>",
                            "<tr><td>65</td><td>Louisiana Fiery Hot Pepper Sauce</td><td>2</td><td>2</td><td>32 - 8 oz bottles</td><td>21.05</td></tr>",
                            "<tr><td>66</td><td>Louisiana Hot Spiced Okra</td><td>2</td><td>2</td><td>24 - 8 oz jars</td><td>17</td></tr>",
                            "<tr><td>68</td><td>Scottish Longbreads</td><td>8</td><td>3</td><td>10 boxes x 8 pieces</td><td>12.5</td></tr>",
                            "<tr><td>69</td><td>Gudbrandsdalsost</td><td>15</td><td>4</td><td>10 kg pkg.</td><td>36</td></tr>",
                            "<tr><td>71</td><td>Fløtemysost</td><td>15</td><td>4</td><td>10 - 500 g pkgs.</td><td>21.5</td></tr>",
                            "<tr><td>72</td><td>Mozzarella di Giovanni</td><td>14</td><td>4</td><td>24 - 200 g pkgs.</td><td>34.8</td></tr>",
                            "<tr><td>73</td><td>Röd Kaviar</td><td>17</td><td>8</td><td>24 - 150 g jars</td><td>15</td></tr>",
                            "<tr><td>74</td><td>Longlife Tofu</td><td>4</td><td>7</td><td>5 kg pkg.</td><td>10</td></tr>",
                            "<tr><td>77</td><td>Original Frankfurter grüne Soße</td><td>12</td><td>2</td><td>12 boxes</td><td>13</td></tr>",
                            "<tr><td>2</td><td>Chang</td><td>1</td><td>1</td><td>24 - 12 oz bottles</td><td>19.95</td></tr>",
                            "<tr><td>24</td><td>Guaraná Fantástica</td><td>10</td><td>1</td><td>12 - 355 ml cans</td><td>4.725</td></tr>",
                            "<tr><td>34</td><td>Sasquatch Ale</td><td>16</td><td>1</td><td>24 - 12 oz bottles</td><td>14.70</td></tr>",
                            "<tr><td>35</td><td>Steeleye Stout</td><td>16</td><td>1</td><td>24 - 12 oz bottles</td><td>18.90</td></tr>",
                            "<tr><td>38</td><td>Côte de Blaye</td><td>18</td><td>1</td><td>12 - 75 cl bottles</td><td>276.675</td></tr>",
                            "<tr><td>39</td><td>Chartreuse verte</td><td>18</td><td>1</td><td>750 cc per bottle</td><td>18.90</td></tr>",
                            "<tr><td>43</td><td>Ipoh Coffee</td><td>20</td><td>1</td><td>16 - 500 g tins</td><td>48.30</td></tr>",
                            "<tr><td>67</td><td>Laughing Lumberjack Lager</td><td>16</td><td>1</td><td>24 - 12 oz bottles</td><td>14.70</td></tr>",
                            "<tr><td>70</td><td>Outback Lager</td><td>7</td><td>1</td><td>24 - 355 ml bottles</td><td>15.75</td></tr>",
                            "<tr><td>75</td><td>Rhönbräu Klosterbier</td><td>12</td><td>1</td><td>24 - 0.5 l bottles</td><td>8.1375</td></tr>",
                            "<tr><td>76</td><td>Lakkalikööri</td><td>23</td><td>1</td><td>500 ml</td><td>18.90</td></tr>",
                            "<tr><td>1</td><td>Chais</td><td>1</td><td>1</td><td>10 boxes x 20 bags</td><td>26.25</td></tr>",
                            "</table>"
                        ]
                    }
                }
            ],
            "execution_count": 23
        },
        {
            "cell_type": "markdown",
            "source": [
                "**Part B:** Retrieve only `ProductName`, `Unit`, and `Price`."
            ],
            "metadata": {
                "azdata_cell_guid": "6f872bcc-1826-4d47-ab3d-e26fdfdec629"
            }
        },
        {
            "cell_type": "code",
            "source": [
                "/*\n",
                "WRITE AND EXECUTE YOUR IN THIS CELL UNDER THIS COMMENT\n",
                "*/\n",
                ""
            ],
            "metadata": {
                "azdata_cell_guid": "a6257375-6072-4610-a71a-084e41f62439",
                "language": "sql"
            },
            "outputs": [
                {
                    "output_type": "display_data",
                    "data": {
                        "text/html": "Total execution time: 00:00:00"
                    },
                    "metadata": {}
                }
            ],
            "execution_count": 24
        },
        {
            "cell_type": "markdown",
            "source": [
                "**Part C:** Retrieve the first 10 rows of the `Products` table."
            ],
            "metadata": {
                "azdata_cell_guid": "09e91e9e-22eb-433d-9c22-6d66d955f6bc"
            }
        },
        {
            "cell_type": "code",
            "source": [
                "/*\n",
                "WRITE AND EXECUTE YOUR IN THIS CELL UNDER THIS COMMENT\n",
                "*/\n",
                ""
            ],
            "metadata": {
                "azdata_cell_guid": "ce878ab8-93e7-42e5-8908-3151c90af597",
                "language": "sql"
            },
            "outputs": [
                {
                    "output_type": "display_data",
                    "data": {
                        "text/html": "Total execution time: 00:00:00"
                    },
                    "metadata": {}
                }
            ],
            "execution_count": 25
        },
        {
            "cell_type": "markdown",
            "source": [
                "### Exercise 2: SQL SELECT DISTINCT"
            ],
            "metadata": {
                "azdata_cell_guid": "645a0c45-afb7-42bf-8890-12a991c690a2"
            }
        },
        {
            "cell_type": "markdown",
            "source": [
                "**Part A:** List all distinct `Country` values from the `Suppliers` table."
            ],
            "metadata": {
                "azdata_cell_guid": "4af6f5ed-c781-48eb-a3a2-1da7611ffff1"
            }
        },
        {
            "cell_type": "code",
            "source": [
                "/*\n",
                "WRITE AND EXECUTE YOUR IN THIS CELL UNDER THIS COMMENT\n",
                "*/\n",
                ""
            ],
            "metadata": {
                "azdata_cell_guid": "427e8a8c-f830-4699-96f8-d8ea5c469861",
                "language": "sql"
            },
            "outputs": [
                {
                    "output_type": "display_data",
                    "data": {
                        "text/html": "Total execution time: 00:00:00"
                    },
                    "metadata": {}
                }
            ],
            "execution_count": 26
        },
        {
            "cell_type": "markdown",
            "source": [
                "**Part B:** Count the number of distinct `Country` values in the `Suppliers` table."
            ],
            "metadata": {
                "azdata_cell_guid": "30aa88ee-81bc-4b60-8e14-a8f525f34658"
            }
        },
        {
            "cell_type": "code",
            "source": [
                "/*\n",
                "WRITE AND EXECUTE YOUR IN THIS CELL UNDER THIS COMMENT\n",
                "*/\n",
                ""
            ],
            "metadata": {
                "azdata_cell_guid": "3585dd58-59b5-44bb-b56e-786b6fbd377c",
                "language": "sql"
            },
            "outputs": [
                {
                    "output_type": "display_data",
                    "data": {
                        "text/html": "Total execution time: 00:00:00"
                    },
                    "metadata": {}
                }
            ],
            "execution_count": 27
        },
        {
            "cell_type": "markdown",
            "source": [
                "### Exercise 3: SQL WHERE"
            ],
            "metadata": {
                "azdata_cell_guid": "2dc17ed6-4157-43cc-92d0-fc3bd74d900d"
            }
        },
        {
            "cell_type": "markdown",
            "source": [
                "**Part A:** Find all products with a price greater than 20."
            ],
            "metadata": {
                "azdata_cell_guid": "984944e4-53be-476a-967c-d26827f5bd75"
            }
        },
        {
            "cell_type": "code",
            "source": [
                "/*\n",
                "WRITE AND EXECUTE YOUR IN THIS CELL UNDER THIS COMMENT\n",
                "*/\n",
                ""
            ],
            "metadata": {
                "azdata_cell_guid": "089a9d05-8e79-42a4-98d8-f9c5c0663b34",
                "language": "sql"
            },
            "outputs": [
                {
                    "output_type": "display_data",
                    "data": {
                        "text/html": "Total execution time: 00:00:00"
                    },
                    "metadata": {}
                }
            ],
            "execution_count": 28
        },
        {
            "cell_type": "markdown",
            "source": [
                "**Part B:** Find products with a price between 10 and 30."
            ],
            "metadata": {
                "azdata_cell_guid": "4082520b-7194-4171-8cca-e8e307a52048"
            }
        },
        {
            "cell_type": "code",
            "source": [
                "/*\n",
                "WRITE AND EXECUTE YOUR IN THIS CELL UNDER THIS COMMENT\n",
                "*/\n",
                ""
            ],
            "metadata": {
                "azdata_cell_guid": "cdf911dc-ff5f-4dc5-a3a0-9542ee6e004f",
                "language": "sql"
            },
            "outputs": [
                {
                    "output_type": "display_data",
                    "data": {
                        "text/html": "Total execution time: 00:00:00"
                    },
                    "metadata": {}
                }
            ],
            "execution_count": 29
        },
        {
            "cell_type": "markdown",
            "source": [
                "**Part C:** Find products where the `ProductName` includes the word \"Ch\"."
            ],
            "metadata": {
                "azdata_cell_guid": "ce7cd0fa-a7c9-4376-854f-65f6d141f6cc"
            }
        },
        {
            "cell_type": "code",
            "source": [
                "/*\n",
                "WRITE AND EXECUTE YOUR IN THIS CELL UNDER THIS COMMENT\n",
                "*/\n",
                ""
            ],
            "metadata": {
                "azdata_cell_guid": "34f07e99-0dbe-49de-8e3b-dcace31cc703",
                "language": "sql"
            },
            "outputs": [
                {
                    "output_type": "display_data",
                    "data": {
                        "text/html": "Total execution time: 00:00:00"
                    },
                    "metadata": {}
                }
            ],
            "execution_count": 30
        },
        {
            "cell_type": "markdown",
            "source": [
                "### Exercise 4: SQL ORDER BY"
            ],
            "metadata": {
                "azdata_cell_guid": "baae5fc3-a03f-4405-9c9f-3a7435e2723e"
            }
        },
        {
            "cell_type": "markdown",
            "source": [
                "**Part A:** Display all customers ordered alphabetically by `CustomerName`."
            ],
            "metadata": {
                "azdata_cell_guid": "c2e95423-4e51-4951-b670-0f344cf7613a"
            }
        },
        {
            "cell_type": "code",
            "source": [
                "/*\n",
                "WRITE AND EXECUTE YOUR IN THIS CELL UNDER THIS COMMENT\n",
                "*/\n",
                ""
            ],
            "metadata": {
                "azdata_cell_guid": "ed01ff28-9d1d-47c6-8f50-c761e63657d6",
                "language": "sql"
            },
            "outputs": [
                {
                    "output_type": "display_data",
                    "data": {
                        "text/html": "Total execution time: 00:00:00"
                    },
                    "metadata": {}
                }
            ],
            "execution_count": 31
        },
        {
            "cell_type": "markdown",
            "source": [
                "**Part B:** Display all customers sorted first by `Country` (A-Z) and then by `City` (Z-A)."
            ],
            "metadata": {
                "azdata_cell_guid": "7a05fd4d-7ac1-447a-8931-5e173ab26ca4"
            }
        },
        {
            "cell_type": "code",
            "source": [
                "/*\n",
                "WRITE AND EXECUTE YOUR IN THIS CELL UNDER THIS COMMENT\n",
                "*/\n",
                ""
            ],
            "metadata": {
                "azdata_cell_guid": "da3619f7-c7fc-465e-a2ab-8ef37ede4be2",
                "language": "sql"
            },
            "outputs": [
                {
                    "output_type": "display_data",
                    "data": {
                        "text/html": "Total execution time: 00:00:00"
                    },
                    "metadata": {}
                }
            ],
            "execution_count": 32
        },
        {
            "cell_type": "markdown",
            "source": [
                "### Exercise 5: SQL AND, OR, NOT"
            ],
            "metadata": {
                "azdata_cell_guid": "e4a6cdbb-e519-468c-88b2-76c3c03f0a72"
            }
        },
        {
            "cell_type": "markdown",
            "source": [
                "**Part A:** Find all products with a price greater than 10 **and** less than 50."
            ],
            "metadata": {
                "azdata_cell_guid": "5f4744a1-191f-4d7a-bed1-5ea14121c9f7"
            }
        },
        {
            "cell_type": "code",
            "source": [
                "/*\n",
                "WRITE AND EXECUTE YOUR IN THIS CELL UNDER THIS COMMENT\n",
                "*/\n",
                ""
            ],
            "metadata": {
                "azdata_cell_guid": "8378fd27-4877-4d6d-bae4-9746ecde8658",
                "language": "sql"
            },
            "outputs": [
                {
                    "output_type": "display_data",
                    "data": {
                        "text/html": "Total execution time: 00:00:00"
                    },
                    "metadata": {}
                }
            ],
            "execution_count": 33
        },
        {
            "cell_type": "markdown",
            "source": [
                "**Part B:** Find products with `Price` greater than 100 **or** belong to `CategoryID = 2`."
            ],
            "metadata": {
                "azdata_cell_guid": "599bb767-c0b6-4073-862a-251e6574341a"
            }
        },
        {
            "cell_type": "code",
            "source": [
                "/*\n",
                "WRITE AND EXECUTE YOUR IN THIS CELL UNDER THIS COMMENT\n",
                "*/\n",
                ""
            ],
            "metadata": {
                "azdata_cell_guid": "254e63b4-db79-487b-98c1-73b53e715bb5",
                "language": "sql"
            },
            "outputs": [
                {
                    "output_type": "display_data",
                    "data": {
                        "text/html": "Total execution time: 00:00:00"
                    },
                    "metadata": {}
                }
            ],
            "execution_count": 34
        },
        {
            "cell_type": "markdown",
            "source": [
                "**Part C:** Find products that are **not** supplied by SupplierID = 1."
            ],
            "metadata": {
                "azdata_cell_guid": "47321cf1-b900-414d-beee-0525840c7c11"
            }
        },
        {
            "cell_type": "code",
            "source": [
                "/*\n",
                "WRITE AND EXECUTE YOUR IN THIS CELL UNDER THIS COMMENT\n",
                "*/\n",
                ""
            ],
            "metadata": {
                "azdata_cell_guid": "c2465d19-63bc-4fc2-ac01-c202a3c6ade6",
                "language": "sql"
            },
            "outputs": [
                {
                    "output_type": "display_data",
                    "data": {
                        "text/html": "Total execution time: 00:00:00"
                    },
                    "metadata": {}
                }
            ],
            "execution_count": 35
        },
        {
            "cell_type": "markdown",
            "source": [
                "### Exercise 6: SQL INSERT INTO"
            ],
            "metadata": {
                "azdata_cell_guid": "e5c41ec0-34ad-4c32-b78d-a8d6e77e2abd"
            }
        },
        {
            "cell_type": "markdown",
            "source": [
                "**Part A:** Add a new customer."
            ],
            "metadata": {
                "azdata_cell_guid": "1194178c-5022-4051-b317-ad7094a74647"
            }
        },
        {
            "cell_type": "code",
            "source": [
                "/*\n",
                "WRITE AND EXECUTE YOUR IN THIS CELL UNDER THIS COMMENT\n",
                "*/\n",
                ""
            ],
            "metadata": {
                "azdata_cell_guid": "bc6bad38-e204-47f7-8a58-2c17da7e158c",
                "language": "sql"
            },
            "outputs": [
                {
                    "output_type": "display_data",
                    "data": {
                        "text/html": "Total execution time: 00:00:00"
                    },
                    "metadata": {}
                }
            ],
            "execution_count": 36
        },
        {
            "cell_type": "markdown",
            "source": [
                "**Part B:** Add multiple new customers in one query."
            ],
            "metadata": {
                "azdata_cell_guid": "6700bf22-0719-4a14-a5be-2016515d830f"
            }
        },
        {
            "cell_type": "code",
            "source": [
                "/*\n",
                "WRITE AND EXECUTE YOUR IN THIS CELL UNDER THIS COMMENT\n",
                "*/\n",
                ""
            ],
            "metadata": {
                "azdata_cell_guid": "73f01285-beab-451a-983f-fa5df3d03d98",
                "language": "sql"
            },
            "outputs": [
                {
                    "output_type": "display_data",
                    "data": {
                        "text/html": "Total execution time: 00:00:00"
                    },
                    "metadata": {}
                }
            ],
            "execution_count": 37
        },
        {
            "cell_type": "markdown",
            "source": [
                "### Exercise 7: SQL UPDATE"
            ],
            "metadata": {
                "azdata_cell_guid": "1a57ee70-d718-4e6c-83af-7374584943ae"
            }
        },
        {
            "cell_type": "markdown",
            "source": [
                "**Part A:** Update the `Price` of a product named \"Chais\" to 25."
            ],
            "metadata": {
                "azdata_cell_guid": "c1ba9a34-9e2b-4a9f-b46c-dc644e29ef88"
            }
        },
        {
            "cell_type": "code",
            "source": [
                "/*\n",
                "WRITE AND EXECUTE YOUR IN THIS CELL UNDER THIS COMMENT\n",
                "*/\n",
                ""
            ],
            "metadata": {
                "azdata_cell_guid": "982882d4-bce1-4963-ad72-afff80982c6e",
                "language": "sql"
            },
            "outputs": [
                {
                    "output_type": "display_data",
                    "data": {
                        "text/html": "Total execution time: 00:00:00"
                    },
                    "metadata": {}
                }
            ],
            "execution_count": 38
        },
        {
            "cell_type": "markdown",
            "source": [
                "**Part B:** Update all products in `CategoryID = 1` to increase their price by 5%."
            ],
            "metadata": {
                "azdata_cell_guid": "44843218-1025-4420-99c9-40cf3ce27cf7"
            }
        },
        {
            "cell_type": "code",
            "source": [
                "/*\n",
                "WRITE AND EXECUTE YOUR IN THIS CELL UNDER THIS COMMENT\n",
                "*/\n",
                ""
            ],
            "metadata": {
                "azdata_cell_guid": "a712e591-9db1-49c3-8a7d-e1245bdf01f7",
                "language": "sql"
            },
            "outputs": [
                {
                    "output_type": "display_data",
                    "data": {
                        "text/html": "Total execution time: 00:00:00"
                    },
                    "metadata": {}
                }
            ],
            "execution_count": 39
        },
        {
            "cell_type": "markdown",
            "source": [
                "### Exercise 8: SQL DELETE"
            ],
            "metadata": {
                "azdata_cell_guid": "eda7dd3c-3552-4ad1-84f0-8a2e3751100d"
            }
        },
        {
            "cell_type": "markdown",
            "source": [
                "**Part A:** Delete a customer named \"Test Customer\"."
            ],
            "metadata": {
                "azdata_cell_guid": "594e9abb-56ff-4018-815c-ae89e4dbd6ed"
            }
        },
        {
            "cell_type": "code",
            "source": [
                "/*\n",
                "WRITE AND EXECUTE YOUR IN THIS CELL UNDER THIS COMMENT\n",
                "*/\n",
                ""
            ],
            "metadata": {
                "azdata_cell_guid": "40ce65e1-7f77-46d8-af41-9766d4ba367f",
                "language": "sql"
            },
            "outputs": [
                {
                    "output_type": "display_data",
                    "data": {
                        "text/html": "Total execution time: 00:00:00"
                    },
                    "metadata": {}
                }
            ],
            "execution_count": 40
        },
        {
            "cell_type": "markdown",
            "source": [
                "**Part B:** Delete all customers from `Testland`."
            ],
            "metadata": {
                "azdata_cell_guid": "542442a0-d8f2-417c-9d03-5ebb293e4442"
            }
        },
        {
            "cell_type": "code",
            "source": [
                "/*\n",
                "WRITE AND EXECUTE YOUR IN THIS CELL UNDER THIS COMMENT\n",
                "*/\n",
                ""
            ],
            "metadata": {
                "azdata_cell_guid": "0201fea7-ce8c-4354-b959-0d3b8b7d8128",
                "language": "sql"
            },
            "outputs": [
                {
                    "output_type": "display_data",
                    "data": {
                        "text/html": "Total execution time: 00:00:00"
                    },
                    "metadata": {}
                }
            ],
            "execution_count": 41
        },
        {
            "cell_type": "markdown",
            "source": [
                "### Exercise 9: SQL SELECT TOP"
            ],
            "metadata": {
                "azdata_cell_guid": "0eef4e3e-9c11-4f54-a486-72b81cfe9b11"
            }
        },
        {
            "cell_type": "markdown",
            "source": [
                "**Part A:** Retrieve the top 5 most expensive products."
            ],
            "metadata": {
                "azdata_cell_guid": "543d6842-1235-4799-9684-5312509efd5f"
            }
        },
        {
            "cell_type": "code",
            "source": [
                "/*\n",
                "WRITE AND EXECUTE YOUR IN THIS CELL UNDER THIS COMMENT\n",
                "*/\n",
                ""
            ],
            "metadata": {
                "azdata_cell_guid": "4e476eb4-e8fb-45e0-b4fc-5f8759684501",
                "language": "sql"
            },
            "outputs": [
                {
                    "output_type": "display_data",
                    "data": {
                        "text/html": "Total execution time: 00:00:00"
                    },
                    "metadata": {}
                }
            ],
            "execution_count": 42
        },
        {
            "cell_type": "markdown",
            "source": [
                "**Part B:** Retrieve the top 3 cheapest products with a price greater than 5."
            ],
            "metadata": {
                "azdata_cell_guid": "3d47e27a-c66d-4698-b188-3367c4656f47"
            }
        },
        {
            "cell_type": "code",
            "source": [
                "/*\n",
                "WRITE AND EXECUTE YOUR IN THIS CELL UNDER THIS COMMENT\n",
                "*/\n",
                ""
            ],
            "metadata": {
                "azdata_cell_guid": "32831385-f98a-4b05-ae15-a8181fe3da0c",
                "language": "sql"
            },
            "outputs": [
                {
                    "output_type": "display_data",
                    "data": {
                        "text/html": "Total execution time: 00:00:00"
                    },
                    "metadata": {}
                }
            ],
            "execution_count": 43
        },
        {
            "cell_type": "markdown",
            "source": [
                "### Exercise 10: SQL AGGREGATE FUNCTIONS"
            ],
            "metadata": {
                "azdata_cell_guid": "b0b8e112-fd09-4295-acef-71f04d92dd98"
            }
        },
        {
            "cell_type": "markdown",
            "source": [
                "**Part A:** Find the total number of products in the `Products` table."
            ],
            "metadata": {
                "azdata_cell_guid": "e51b4af6-924e-4bfa-b7a4-c4cda5b06353"
            }
        },
        {
            "cell_type": "code",
            "source": [
                "/*\n",
                "WRITE AND EXECUTE YOUR IN THIS CELL UNDER THIS COMMENT\n",
                "*/\n",
                ""
            ],
            "metadata": {
                "azdata_cell_guid": "c76eb8d3-6dd8-4ac8-a338-ca4005fc06d9",
                "language": "sql"
            },
            "outputs": [
                {
                    "output_type": "display_data",
                    "data": {
                        "text/html": "Total execution time: 00:00:00"
                    },
                    "metadata": {}
                }
            ],
            "execution_count": 44
        },
        {
            "cell_type": "markdown",
            "source": [
                "**Part B:** Find the average, minimum, and maximum prices of products in `CategoryID = 1`."
            ],
            "metadata": {
                "azdata_cell_guid": "89a6c04a-4b50-4ca5-83fd-ebf9a2959526"
            }
        },
        {
            "cell_type": "code",
            "source": [
                "/*\n",
                "WRITE AND EXECUTE YOUR IN THIS CELL UNDER THIS COMMENT\n",
                "*/\n",
                ""
            ],
            "metadata": {
                "azdata_cell_guid": "a8f8285b-0bd2-4b95-b056-22e966fa25e5",
                "language": "sql"
            },
            "outputs": [
                {
                    "output_type": "display_data",
                    "data": {
                        "text/html": "Total execution time: 00:00:00"
                    },
                    "metadata": {}
                }
            ],
            "execution_count": 45
        },
        {
            "cell_type": "markdown",
            "source": [
                "### Exercise 11: SQL LIKE and WILDCARDS"
            ],
            "metadata": {
                "azdata_cell_guid": "2b8c12a8-fbe8-4510-bf6c-1f6d0d8f54f3"
            }
        },
        {
            "cell_type": "markdown",
            "source": [
                "**Part A:** Find all customers whose `ContactName` starts with \"A\"."
            ],
            "metadata": {
                "azdata_cell_guid": "bcf66d83-4cd4-44e6-87db-831748c114e6"
            }
        },
        {
            "cell_type": "code",
            "source": [
                "/*\n",
                "WRITE AND EXECUTE YOUR IN THIS CELL UNDER THIS COMMENT\n",
                "*/\n",
                ""
            ],
            "metadata": {
                "azdata_cell_guid": "81dd9341-892a-4590-bc52-6d25d00ebab9",
                "language": "sql"
            },
            "outputs": [
                {
                    "output_type": "display_data",
                    "data": {
                        "text/html": "Total execution time: 00:00:00"
                    },
                    "metadata": {}
                }
            ],
            "execution_count": 46
        },
        {
            "cell_type": "markdown",
            "source": [
                "**Part B:** Find customers whose `Address` contains the word \"Street\"."
            ],
            "metadata": {
                "azdata_cell_guid": "e89e069d-429b-4c13-933f-799def68d3c2"
            }
        },
        {
            "cell_type": "code",
            "source": [
                "/*\n",
                "WRITE AND EXECUTE YOUR IN THIS CELL UNDER THIS COMMENT\n",
                "*/\n",
                ""
            ],
            "metadata": {
                "azdata_cell_guid": "04e6626a-b133-4dea-98e1-c207cf79affe",
                "language": "sql"
            },
            "outputs": [
                {
                    "output_type": "display_data",
                    "data": {
                        "text/html": "Total execution time: 00:00:00"
                    },
                    "metadata": {}
                }
            ],
            "execution_count": 47
        },
        {
            "cell_type": "markdown",
            "source": [
                "**Part C:** Find customers whose `PostalCode` ends with \"45\"."
            ],
            "metadata": {
                "azdata_cell_guid": "a40402ca-829b-4032-8712-f1159d6ff207"
            }
        },
        {
            "cell_type": "code",
            "source": [
                "/*\n",
                "WRITE AND EXECUTE YOUR IN THIS CELL UNDER THIS COMMENT\n",
                "*/\n",
                ""
            ],
            "metadata": {
                "azdata_cell_guid": "7abca27e-5624-4448-a8d0-70651b36cc3c",
                "language": "sql"
            },
            "outputs": [
                {
                    "output_type": "display_data",
                    "data": {
                        "text/html": "Total execution time: 00:00:00"
                    },
                    "metadata": {}
                }
            ],
            "execution_count": 48
        },
        {
            "cell_type": "markdown",
            "source": [
                "### Exercise 12: SQL IN"
            ],
            "metadata": {
                "azdata_cell_guid": "04c42b83-c42e-4f5b-8b5c-a123f089163c"
            }
        },
        {
            "cell_type": "markdown",
            "source": [
                "**Part A:** Find all products with `CategoryID` of 1, 3, or 5."
            ],
            "metadata": {
                "azdata_cell_guid": "bc18cb52-c500-45c9-868c-b6bebd8bf1e4"
            }
        },
        {
            "cell_type": "code",
            "source": [
                "/*\n",
                "WRITE AND EXECUTE YOUR IN THIS CELL UNDER THIS COMMENT\n",
                "*/\n",
                ""
            ],
            "metadata": {
                "azdata_cell_guid": "22121567-210b-45b0-9bc3-ac1b614234b6",
                "language": "sql"
            },
            "outputs": [
                {
                    "output_type": "display_data",
                    "data": {
                        "text/html": "Total execution time: 00:00:00"
                    },
                    "metadata": {}
                }
            ],
            "execution_count": 49
        },
        {
            "cell_type": "markdown",
            "source": [
                "**Part B:** Find all suppliers from `USA`, `UK`, or `Germany`."
            ],
            "metadata": {
                "azdata_cell_guid": "6b9559be-0dea-4a21-8620-5c31984ff719"
            }
        },
        {
            "cell_type": "code",
            "source": [
                "/*\n",
                "WRITE AND EXECUTE YOUR IN THIS CELL UNDER THIS COMMENT\n",
                "*/\n",
                ""
            ],
            "metadata": {
                "azdata_cell_guid": "e5b18070-ccc0-43f2-a3cd-335111cfc122",
                "language": "sql"
            },
            "outputs": [
                {
                    "output_type": "display_data",
                    "data": {
                        "text/html": "Total execution time: 00:00:00"
                    },
                    "metadata": {}
                }
            ],
            "execution_count": 50
        },
        {
            "cell_type": "markdown",
            "source": [
                "### Exercise 13: SQL BETWEEN"
            ],
            "metadata": {
                "azdata_cell_guid": "ccbef257-903d-4d90-9770-c9371c979cf9"
            }
        },
        {
            "cell_type": "markdown",
            "source": [
                "**Part A:** Retrieve all products priced between 10 and 20."
            ],
            "metadata": {
                "azdata_cell_guid": "7b6ae47f-d70a-43a1-b438-98363b9587be"
            }
        },
        {
            "cell_type": "code",
            "source": [
                "/*\n",
                "WRITE AND EXECUTE YOUR IN THIS CELL UNDER THIS COMMENT\n",
                "*/\n",
                ""
            ],
            "metadata": {
                "azdata_cell_guid": "1423a920-713c-456e-bcaf-8759472293ba",
                "language": "sql"
            },
            "outputs": [
                {
                    "output_type": "display_data",
                    "data": {
                        "text/html": "Total execution time: 00:00:00"
                    },
                    "metadata": {}
                }
            ],
            "execution_count": 51
        },
        {
            "cell_type": "markdown",
            "source": [
                "**Part B:** Retrieve orders placed between `1996-07-01` and `1996-08-01`."
            ],
            "metadata": {
                "azdata_cell_guid": "0e5a5c1b-a003-41d4-bb58-fd50a6fc7195"
            }
        },
        {
            "cell_type": "code",
            "source": [
                "/*\n",
                "WRITE AND EXECUTE YOUR IN THIS CELL UNDER THIS COMMENT\n",
                "*/\n",
                ""
            ],
            "metadata": {
                "azdata_cell_guid": "3ac84a33-be0a-4111-a6cb-fa28848acede",
                "language": "sql"
            },
            "outputs": [
                {
                    "output_type": "display_data",
                    "data": {
                        "text/html": "Total execution time: 00:00:00"
                    },
                    "metadata": {}
                }
            ],
            "execution_count": 52
        },
        {
            "cell_type": "markdown",
            "source": [
                "### Exercise 14: SQL ALIASES"
            ],
            "metadata": {
                "azdata_cell_guid": "c8fe86ad-d56c-4027-a1ea-8006702fa76c"
            }
        },
        {
            "cell_type": "markdown",
            "source": [
                "**Part A:** Create a report that shows `ProductName` as `Item` and `Price` as `Cost`."
            ],
            "metadata": {
                "azdata_cell_guid": "c1456af9-c828-4f85-ad3a-49fc37664654"
            }
        },
        {
            "cell_type": "code",
            "source": [
                "/*\n",
                "WRITE AND EXECUTE YOUR IN THIS CELL UNDER THIS COMMENT\n",
                "*/\n",
                ""
            ],
            "metadata": {
                "azdata_cell_guid": "c4e4a353-00f9-4528-8944-797cc7620de2",
                "language": "sql"
            },
            "outputs": [
                {
                    "output_type": "display_data",
                    "data": {
                        "text/html": "Total execution time: 00:00:00"
                    },
                    "metadata": {}
                }
            ],
            "execution_count": 53
        },
        {
            "cell_type": "markdown",
            "source": [
                "**Part B:** Create a customer report showing `CustomerName` as `Client` and `Country` as `Region`."
            ],
            "metadata": {
                "azdata_cell_guid": "a90f5420-f1d4-4e2b-89d7-2cd8c82c5782"
            }
        },
        {
            "cell_type": "code",
            "source": [
                "/*\n",
                "WRITE AND EXECUTE YOUR IN THIS CELL UNDER THIS COMMENT\n",
                "*/\n",
                ""
            ],
            "metadata": {
                "azdata_cell_guid": "13ea57d9-e8f1-44cb-be08-a0cfc34e29f0",
                "language": "sql"
            },
            "outputs": [
                {
                    "output_type": "display_data",
                    "data": {
                        "text/html": "Total execution time: 00:00:00"
                    },
                    "metadata": {}
                }
            ],
            "execution_count": 54
        }
    ]
}